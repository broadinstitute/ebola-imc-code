{
 "cells": [
  {
   "cell_type": "code",
   "execution_count": 1,
   "metadata": {},
   "outputs": [],
   "source": [
    "%matplotlib inline\n",
    "\n",
    "import pandas as pd\n",
    "import numpy as  np\n",
    "import matplotlib.pyplot as plt\n",
    "import seaborn as sns"
   ]
  },
  {
   "cell_type": "code",
   "execution_count": 2,
   "metadata": {},
   "outputs": [],
   "source": [
    "df = pd.read_csv('../data/imc_merged.csv')\n",
    "ct_var = 'cycletime2'"
   ]
  },
  {
   "cell_type": "code",
   "execution_count": 3,
   "metadata": {},
   "outputs": [],
   "source": [
    "# 1 = Bong (Liberia)                          \n",
    "# 2 = Lunsar (Sierra Leone)\n",
    "# 3 = Margibi (Liberia)                    \n",
    "# 4 = Kambia (Sierra Leone)       \n",
    "# 5 = Makeni (Sierra Leone)\n",
    "\n",
    "df_lb = df[(df['ETUKey'] == 1) | (df['ETUKey'] == 3)]\n",
    "df_sl_trombley = df[(df['ETUKey'] == 2) | (df['ETUKey'] == 5)] \n",
    "df_sl_altona = df[df['ETUKey'] == 4] "
   ]
  },
  {
   "cell_type": "code",
   "execution_count": 4,
   "metadata": {},
   "outputs": [
    {
     "name": "stdout",
     "output_type": "stream",
     "text": [
      "Liberia CT, Applied Biosystems StepOnePlus\n",
      "178\n",
      "Min CT 15.5\n",
      "Max CT 40.7999992371\n"
     ]
    }
   ],
   "source": [
    "print('Liberia CT, Applied Biosystems StepOnePlus')\n",
    "ct = df_lb[ct_var]\n",
    "print(len(ct))\n",
    "print('Min CT', ct.min())\n",
    "print('Max CT', ct.max())"
   ]
  },
  {
   "cell_type": "code",
   "execution_count": 5,
   "metadata": {},
   "outputs": [
    {
     "name": "stdout",
     "output_type": "stream",
     "text": [
      "Sierra Leone CT, Lunsar & Makeni, Trombley assay (same primers as KGH)\n",
      "259\n",
      "Min CT 14.100000381500001\n",
      "Max CT 39.5\n"
     ]
    }
   ],
   "source": [
    "print('Sierra Leone CT, Lunsar & Makeni, Trombley assay (same primers as KGH)')\n",
    "ct = df_sl_trombley[ct_var]\n",
    "print(len(ct))\n",
    "print('Min CT', ct.min())\n",
    "print('Max CT', ct.max())"
   ]
  },
  {
   "cell_type": "code",
   "execution_count": 6,
   "metadata": {},
   "outputs": [
    {
     "name": "stdout",
     "output_type": "stream",
     "text": [
      "Sierra Leone CT, Kambia, Altona assay\n",
      "8\n",
      "Min CT 15.529999733\n",
      "Max CT 30.280000686599998\n"
     ]
    }
   ],
   "source": [
    "print('Sierra Leone CT, Kambia, Altona assay')\n",
    "ct = df_sl_altona[ct_var].dropna()\n",
    "print(len(ct)) \n",
    "print('Min CT', ct.min())\n",
    "print('Max CT', ct.max())"
   ]
  }
 ],
 "metadata": {
  "kernelspec": {
   "display_name": "Python 3",
   "language": "python",
   "name": "python3"
  },
  "language_info": {
   "codemirror_mode": {
    "name": "ipython",
    "version": 3
   },
   "file_extension": ".py",
   "mimetype": "text/x-python",
   "name": "python",
   "nbconvert_exporter": "python",
   "pygments_lexer": "ipython3",
   "version": "3.7.3"
  }
 },
 "nbformat": 4,
 "nbformat_minor": 1
}
