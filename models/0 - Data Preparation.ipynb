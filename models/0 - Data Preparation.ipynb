{
 "cells": [
  {
   "cell_type": "markdown",
   "metadata": {},
   "source": [
    "# 0 - Data preparation"
   ]
  },
  {
   "cell_type": "code",
   "execution_count": 4,
   "metadata": {},
   "outputs": [],
   "source": [
    "import numpy as np\n",
    "import pandas as pd"
   ]
  },
  {
   "cell_type": "code",
   "execution_count": 5,
   "metadata": {},
   "outputs": [],
   "source": [
    "save_normalized_data = False"
   ]
  },
  {
   "cell_type": "markdown",
   "metadata": {},
   "source": [
    "# IMC data"
   ]
  },
  {
   "cell_type": "code",
   "execution_count": 6,
   "metadata": {},
   "outputs": [],
   "source": [
    "imc_data_file = '../data/data.csv'\n",
    "imc_data = pd.read_csv(imc_data_file, na_values=\"\\\\N\")"
   ]
  },
  {
   "cell_type": "code",
   "execution_count": 7,
   "metadata": {},
   "outputs": [
    {
     "name": "stdout",
     "output_type": "stream",
     "text": [
      "IMC Sierra Leone 21.83870655701492 5.154446983931702\n",
      "IMC Liberia 27.671287912272724 5.44911795341149\n"
     ]
    }
   ],
   "source": [
    "# Indexing like so to avoid pandas SettingWithCopyWarning warning\n",
    "# https://maxpowerwastaken.github.io/blog/pandas_view_vs_copy/\n",
    "\n",
    "imc_data.rename(columns={'DaysSinceSymptomFeverOnset':'reftime'}, inplace=True)\n",
    "\n",
    "sl_indices = imc_data[(imc_data['ETUKey'] == 2) | (imc_data['ETUKey'] == 4) | (imc_data['ETUKey'] == 5)].index\n",
    "lb_indices = imc_data[(imc_data['ETUKey'] == 1) | (imc_data['ETUKey'] == 3)].index\n",
    "sl_data = imc_data.loc[sl_indices, :]\n",
    "lb_data = imc_data.loc[lb_indices, :]\n",
    "\n",
    "# Normalizing Sierra Leone and Liberia ETUs separately\n",
    "sl_ct_mean = sl_data['cycletime'].mean()\n",
    "sl_ct_std = sl_data['cycletime'].std()\n",
    "print(\"IMC Sierra Leone\", sl_ct_mean, sl_ct_std)\n",
    "sl_data['cycletime'] = (sl_data['cycletime'] - sl_ct_mean) / sl_ct_std\n",
    "\n",
    "lb_ct_mean = lb_data['cycletime'].mean()\n",
    "lb_ct_std = lb_data['cycletime'].std()\n",
    "print(\"IMC Liberia\", lb_ct_mean, lb_ct_std)\n",
    "lb_data['cycletime'] = (lb_data['cycletime'] - lb_ct_mean) / lb_ct_std\n",
    "\n",
    "norm_imc_data = pd.concat([sl_data, lb_data])\n",
    "\n",
    "if save_normalized_data:\n",
    "    sl_data.to_csv('../data/data_sl_normalized.csv', index=False, na_rep=\"\\\\N\")\n",
    "    lb_data.to_csv('../data/data_lb_normalized.csv', index=False, na_rep=\"\\\\N\")    \n",
    "    norm_imc_data.to_csv('../data/data_normalized.csv', index=False, na_rep=\"\\\\N\")"
   ]
  },
  {
   "cell_type": "code",
   "execution_count": 8,
   "metadata": {},
   "outputs": [],
   "source": [
    "# Normalize day 1 and day 2 CT values\n",
    "\n",
    "ct_data_file = '../data/data_ct.csv'\n",
    "ct_data = pd.read_csv(ct_data_file, na_values=\"\\\\N\")\n",
    "\n",
    "ct_data.rename(columns={'DaysSinceSymptomFeverOnset':'reftime'}, inplace=True)\n",
    "\n",
    "sl_indices = ct_data[(ct_data['ETUKey'] == 2) | (ct_data['ETUKey'] == 4) | (ct_data['ETUKey'] == 5)].index\n",
    "lb_indices = ct_data[(ct_data['ETUKey'] == 1) | (ct_data['ETUKey'] == 3)].index\n",
    "sl_data = ct_data.loc[sl_indices, :]\n",
    "lb_data = ct_data.loc[lb_indices, :]\n",
    "\n",
    "sl_data['cycletime1'] = (sl_data['cycletime1'] - sl_ct_mean) / sl_ct_std\n",
    "sl_data['cycletime2'] = (sl_data['cycletime2'] - sl_ct_mean) / sl_ct_std\n",
    "\n",
    "lb_data['cycletime1'] = (lb_data['cycletime1'] - lb_ct_mean) / lb_ct_std\n",
    "lb_data['cycletime2'] = (lb_data['cycletime2'] - lb_ct_mean) / lb_ct_std\n",
    "\n",
    "norm_ct_data = pd.concat([sl_data, lb_data])\n",
    "\n",
    "if save_normalized_data:\n",
    "    norm_ct_data.to_csv('../data/data_ct_normalized.csv', index=False, na_rep=\"\\\\N\")"
   ]
  },
  {
   "cell_type": "markdown",
   "metadata": {},
   "source": [
    "# Kenema data"
   ]
  },
  {
   "cell_type": "code",
   "execution_count": 9,
   "metadata": {},
   "outputs": [],
   "source": [
    "kenema_data_file = '../../kenema/mirador/data.csv'\n",
    "kenema_data = pd.read_csv(kenema_data_file, na_values=\"\\\\N\")"
   ]
  },
  {
   "cell_type": "code",
   "execution_count": 14,
   "metadata": {},
   "outputs": [
    {
     "name": "stdout",
     "output_type": "stream",
     "text": [
      "12.10000038 10.56304728\n",
      "39.79999924 1.546663713\n",
      "0.9765036756034003\n",
      "-3.072185056698576 44.55163638681653\n"
     ]
    }
   ],
   "source": [
    "# Compute transformation between viral load and CT:\n",
    "\n",
    "# Using all data\n",
    "min_ct = imc_data['cycletime'].min()\n",
    "max_ct = imc_data['cycletime'].max()\n",
    "\n",
    "# Using Sierra Leone only\n",
    "# min_ct = sl_data['cycletime'].min()\n",
    "# max_ct = sl_data['cycletime'].max()\n",
    "\n",
    "# Using Liberia only\n",
    "# min_ct = lb_data['cycletime'].min()\n",
    "# max_ct = lb_data['cycletime'].max()\n",
    "\n",
    "min_log_pcr = kenema_data['PCR'].min()\n",
    "max_log_pcr = kenema_data['PCR'].max()\n",
    "\n",
    "print(min_ct, max_log_pcr) \n",
    "print(max_ct, min_log_pcr) \n",
    "b = (max_log_pcr - min_log_pcr) / (max_ct - min_ct)\n",
    "a = min_log_pcr + b * max_ct\n",
    "vl2ct_c1 = -1/b\n",
    "vl2ct_c0 = +a/b\n",
    "print(3*b)\n",
    "print(vl2ct_c1, vl2ct_c0)\n",
    "\n",
    "# Compare with:\n",
    "# Each 3-point decrease in Ct was associated with an ≈10-fold increase in Ebola viral load; \n",
    "# a Ct of 39 corresponded to ≈40 TCID50/mL and a Ct of 19 corresponded to ≈40 million TCID50/mL\n",
    "# http://www.fda.gov/downloads/medicaldevices/safety/emergencysituations/ucm436313.pdf\n",
    "# Based on this, 3*b should be close to 1"
   ]
  },
  {
   "cell_type": "code",
   "execution_count": 14,
   "metadata": {},
   "outputs": [
    {
     "name": "stdout",
     "output_type": "stream",
     "text": [
      "Kenema 26.04665893711396 6.000663383100513\n"
     ]
    }
   ],
   "source": [
    "# Keeping only positive cases\n",
    "\n",
    "# Indexing like so to avoid pandas SettingWithCopyWarning warning\n",
    "# https://maxpowerwastaken.github.io/blog/pandas_view_vs_copy/\n",
    "indices = kenema_data[kenema_data['DIAG'] == 1].index\n",
    "norm_kenema_data = kenema_data.loc[indices, :]\n",
    "\n",
    "# Calculating CT from Viral Load (PCR)\n",
    "norm_kenema_data['CT'] = vl2ct_c1 * kenema_data['PCR'] + vl2ct_c0\n",
    "\n",
    "kgh_ct_mean = norm_kenema_data['CT'].mean()\n",
    "kgh_ct_std = norm_kenema_data['CT'].std()\n",
    "print(\"Kenema\", kgh_ct_mean, kgh_ct_std)\n",
    "norm_kenema_data['CT'] = (norm_kenema_data['CT'] - kgh_ct_mean) / kgh_ct_std\n",
    "\n",
    "# Estimating \"breathing problems\" from oxygen saturation (95-100 values are considered normal):\n",
    "# https://www.mayoclinic.org/symptoms/hypoxemia/basics/definition/sym-20050930\n",
    "oxsat = list(norm_kenema_data['OXSAT'])\n",
    "# (np.isnan(ox) ? np.nan : int(ox < 95))\n",
    "breath = len(oxsat) * [np.nan]\n",
    "for i in range(0, len(oxsat)):\n",
    "    ox = oxsat[i]\n",
    "    if np.isnan(ox): continue\n",
    "    breath[i] = int(ox < 95)\n",
    "norm_kenema_data['BREATH'] = pd.array(breath, dtype=pd.Int64Dtype())\n",
    "\n",
    "# Switching some values\n",
    "norm_kenema_data['SEX'] = 1 - kenema_data['GEND']\n",
    "norm_kenema_data['BLEED'] = 1 - kenema_data['BNONE']\n",
    "\n",
    "# These non-missing values of these variables are 0, so that causes imputation algorithms to fail. Setting all\n",
    "# values to 0 so the variable is effectibly a constant and not considered in the imputation\n",
    "norm_kenema_data['JAUN'] = 0\n",
    "\n",
    "if len(norm_kenema_data[norm_kenema_data['BREATH'] == 1]) == 0:\n",
    "    print(\"Not occurrence of breathing problems\")\n",
    "    norm_kenema_data['BREATH'] = 0\n",
    "    \n",
    "if save_normalized_data:\n",
    "    norm_kenema_data.to_csv('../../kenema/mirador/data_normalized.csv', index=False, na_rep=\"\\\\N\")"
   ]
  },
  {
   "cell_type": "markdown",
   "metadata": {},
   "source": [
    "# GOAL data"
   ]
  },
  {
   "cell_type": "code",
   "execution_count": 8,
   "metadata": {},
   "outputs": [],
   "source": [
    "goal_data_file = '../../goal/data.csv'\n",
    "goal_data = pd.read_csv(goal_data_file, na_values='\\\\N')"
   ]
  },
  {
   "cell_type": "code",
   "execution_count": 12,
   "metadata": {},
   "outputs": [
    {
     "name": "stdout",
     "output_type": "stream",
     "text": [
      "GOAL 22.204958677685955 4.313078004543652\n"
     ]
    }
   ],
   "source": [
    "norm_goal_data = goal_data.copy()\n",
    "\n",
    "goal_ct_mean = goal_data['evd_ct'].mean()\n",
    "goal_ct_std = goal_data['evd_ct'].std()\n",
    "print(\"GOAL\", goal_ct_mean, goal_ct_std)\n",
    "norm_goal_data['evd_ct'] = (norm_goal_data['evd_ct'] - goal_ct_mean) / goal_ct_std\n",
    "\n",
    "if save_normalized_data:\n",
    "    norm_goal_data.to_csv('../../goal/data_normalized.csv', index=False, na_rep=\"\\\\N\")"
   ]
  },
  {
   "cell_type": "code",
   "execution_count": null,
   "metadata": {},
   "outputs": [],
   "source": []
  }
 ],
 "metadata": {
  "kernelspec": {
   "display_name": "Python 3",
   "language": "python",
   "name": "python3"
  },
  "language_info": {
   "codemirror_mode": {
    "name": "ipython",
    "version": 3
   },
   "file_extension": ".py",
   "mimetype": "text/x-python",
   "name": "python",
   "nbconvert_exporter": "python",
   "pygments_lexer": "ipython3",
   "version": "3.7.3"
  }
 },
 "nbformat": 4,
 "nbformat_minor": 2
}
